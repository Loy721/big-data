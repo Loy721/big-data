{
  "nbformat": 4,
  "nbformat_minor": 0,
  "metadata": {
    "colab": {
      "provenance": []
    },
    "kernelspec": {
      "name": "python3",
      "display_name": "Python 3"
    }
  },
  "cells": [
    {
      "cell_type": "markdown",
      "metadata": {
        "id": "82OvPKEiEqjc"
      },
      "source": [
        "# Введение в MapReduce модель на Python\n"
      ]
    },
    {
      "cell_type": "code",
      "metadata": {
        "id": "JQ2cvXLjICmI"
      },
      "source": [
        "from typing import NamedTuple # requires python 3.6+\n",
        "from typing import Iterator"
      ],
      "execution_count": null,
      "outputs": []
    },
    {
      "cell_type": "code",
      "metadata": {
        "id": "yjPHumVwEyEg"
      },
      "source": [
        "def MAP(_, row:NamedTuple):\n",
        "  if (row.gender == 'female'):\n",
        "    yield (row.age, row)\n",
        "\n",
        "def REDUCE(age:str, rows:Iterator[NamedTuple]):\n",
        "  sum = 0\n",
        "  count = 0\n",
        "  for row in rows:\n",
        "    sum += row.social_contacts\n",
        "    count += 1\n",
        "  if (count > 0):\n",
        "    yield (age, sum/count)\n",
        "  else:\n",
        "    yield (age, 0)"
      ],
      "execution_count": null,
      "outputs": []
    },
    {
      "cell_type": "markdown",
      "metadata": {
        "id": "vBKMgpG_ilaZ"
      },
      "source": [
        "Модель элемента данных"
      ]
    },
    {
      "cell_type": "code",
      "metadata": {
        "id": "Rv-XIjhTJPx3"
      },
      "source": [
        "class User(NamedTuple):\n",
        "  id: int\n",
        "  age: str\n",
        "  social_contacts: int\n",
        "  gender: str"
      ],
      "execution_count": null,
      "outputs": []
    },
    {
      "cell_type": "markdown",
      "source": [],
      "metadata": {
        "id": "c_gGWyJ0Pge2"
      }
    },
    {
      "cell_type": "code",
      "metadata": {
        "id": "5KV0Ze2vQgu5"
      },
      "source": [
        "input_collection = [\n",
        "    User(id=0, age=55, gender='male', social_contacts=20),\n",
        "    User(id=1, age=25, gender='female', social_contacts=240),\n",
        "    User(id=2, age=25, gender='female', social_contacts=500),\n",
        "    User(id=3, age=33, gender='female', social_contacts=800)\n",
        "]"
      ],
      "execution_count": null,
      "outputs": []
    },
    {
      "cell_type": "markdown",
      "metadata": {
        "id": "YFeqzyZxZIFZ"
      },
      "source": [
        "Функция RECORDREADER моделирует чтение элементов с диска или по сети."
      ]
    },
    {
      "cell_type": "code",
      "metadata": {
        "id": "S5HR4E_GQoMJ"
      },
      "source": [
        "def RECORDREADER():\n",
        "  return [(u.id, u) for u in input_collection]"
      ],
      "execution_count": null,
      "outputs": []
    },
    {
      "cell_type": "code",
      "metadata": {
        "id": "NeEoWla-ROUy",
        "colab": {
          "base_uri": "https://localhost:8080/"
        },
        "outputId": "7f883dd7-825a-429f-9a35-f5735c2e993b"
      },
      "source": [
        "list(RECORDREADER())"
      ],
      "execution_count": null,
      "outputs": [
        {
          "output_type": "execute_result",
          "data": {
            "text/plain": [
              "[(0, User(id=0, age=55, social_contacts=20, gender='male')),\n",
              " (1, User(id=1, age=25, social_contacts=240, gender='female')),\n",
              " (2, User(id=2, age=25, social_contacts=500, gender='female')),\n",
              " (3, User(id=3, age=33, social_contacts=800, gender='female'))]"
            ]
          },
          "metadata": {},
          "execution_count": 119
        }
      ]
    },
    {
      "cell_type": "code",
      "metadata": {
        "id": "YB8orgPSZs8M"
      },
      "source": [
        "def flatten(nested_iterable):\n",
        "  for iterable in nested_iterable:\n",
        "    for element in iterable:\n",
        "      yield element"
      ],
      "execution_count": null,
      "outputs": []
    },
    {
      "cell_type": "code",
      "metadata": {
        "id": "74oyvDLaRmd5",
        "colab": {
          "base_uri": "https://localhost:8080/"
        },
        "outputId": "679da2c7-ab41-4ba6-bf2b-fd2093d1b83d"
      },
      "source": [
        "map_output = flatten(map(lambda x: MAP(*x), RECORDREADER()))\n",
        "map_output = list(map_output) # materialize\n",
        "map_output"
      ],
      "execution_count": null,
      "outputs": [
        {
          "output_type": "execute_result",
          "data": {
            "text/plain": [
              "[(25, User(id=1, age=25, social_contacts=240, gender='female')),\n",
              " (25, User(id=2, age=25, social_contacts=500, gender='female')),\n",
              " (33, User(id=3, age=33, social_contacts=800, gender='female'))]"
            ]
          },
          "metadata": {},
          "execution_count": 121
        }
      ]
    },
    {
      "cell_type": "code",
      "metadata": {
        "id": "8ncYDJ3-VzDn"
      },
      "source": [
        "def groupbykey(iterable):\n",
        "  t = {}\n",
        "  for (k2, v2) in iterable:\n",
        "    t[k2] = t.get(k2, []) + [v2]\n",
        "  return t.items()"
      ],
      "execution_count": null,
      "outputs": []
    },
    {
      "cell_type": "code",
      "metadata": {
        "id": "cKzY_6COWOA2",
        "colab": {
          "base_uri": "https://localhost:8080/"
        },
        "outputId": "d9f09d2b-c46c-4358-b0b7-4cee45bf7f53"
      },
      "source": [
        "shuffle_output = groupbykey(map_output)\n",
        "shuffle_output = list(shuffle_output)\n",
        "shuffle_output"
      ],
      "execution_count": null,
      "outputs": [
        {
          "output_type": "execute_result",
          "data": {
            "text/plain": [
              "[(25,\n",
              "  [User(id=1, age=25, social_contacts=240, gender='female'),\n",
              "   User(id=2, age=25, social_contacts=500, gender='female')]),\n",
              " (33, [User(id=3, age=33, social_contacts=800, gender='female')])]"
            ]
          },
          "metadata": {},
          "execution_count": 123
        }
      ]
    },
    {
      "cell_type": "code",
      "metadata": {
        "id": "NlA7lkDDYL0t",
        "colab": {
          "base_uri": "https://localhost:8080/"
        },
        "outputId": "37e8cc21-82b1-4988-cb57-69e77b28a3b1"
      },
      "source": [
        "reduce_output = flatten(map(lambda x: REDUCE(*x), shuffle_output))\n",
        "reduce_output = list(reduce_output)\n",
        "reduce_output"
      ],
      "execution_count": null,
      "outputs": [
        {
          "output_type": "execute_result",
          "data": {
            "text/plain": [
              "[(25, 370.0), (33, 800.0)]"
            ]
          },
          "metadata": {},
          "execution_count": 124
        }
      ]
    },
    {
      "cell_type": "markdown",
      "metadata": {
        "id": "xf6qhHEtd6bI"
      },
      "source": [
        "Все действия одним конвейером!"
      ]
    },
    {
      "cell_type": "code",
      "metadata": {
        "id": "dZaQGYxCdpw5",
        "colab": {
          "base_uri": "https://localhost:8080/"
        },
        "outputId": "c78b5f52-5712-46d6-9f13-64cfc40d1c90"
      },
      "source": [
        "list(flatten(map(lambda x: REDUCE(*x), groupbykey(flatten(map(lambda x: MAP(*x), RECORDREADER()))))))"
      ],
      "execution_count": null,
      "outputs": [
        {
          "output_type": "execute_result",
          "data": {
            "text/plain": [
              "[(25, 370.0), (33, 800.0)]"
            ]
          },
          "metadata": {},
          "execution_count": 125
        }
      ]
    },
    {
      "cell_type": "markdown",
      "metadata": {
        "id": "Vq3EWRIpwSiJ"
      },
      "source": [
        "# **MapReduce**\n",
        "Выделим общую для всех пользователей часть системы в отдельную функцию высшего порядка. Это наиболее простая модель MapReduce, без учёта распределённого хранения данных.\n",
        "\n",
        "Пользователь для решения своей задачи реализует RECORDREADER, MAP, REDUCE."
      ]
    },
    {
      "cell_type": "code",
      "metadata": {
        "id": "V1PZeQMwwVjc"
      },
      "source": [
        "def flatten(nested_iterable):\n",
        "  for iterable in nested_iterable:\n",
        "    for element in iterable:\n",
        "      yield element\n",
        "\n",
        "def groupbykey(iterable):\n",
        "  t = {}\n",
        "  for (k2, v2) in iterable:\n",
        "    t[k2] = t.get(k2, []) + [v2]\n",
        "  return t.items()\n",
        "\n",
        "def MapReduce(RECORDREADER, MAP, REDUCE):\n",
        "  return flatten(map(lambda x: REDUCE(*x), groupbykey(flatten(map(lambda x: MAP(*x), RECORDREADER())))))"
      ],
      "execution_count": null,
      "outputs": []
    },
    {
      "cell_type": "markdown",
      "metadata": {
        "id": "iFIVrimep678"
      },
      "source": [
        "## Спецификация MapReduce\n",
        "\n",
        "\n",
        "\n",
        "```\n",
        "f (k1, v1) -> (k2,v2)*\n",
        "g (k2, v2*) -> (k3,v3)*\n",
        "\n",
        "mapreduce ((k1,v1)*) -> (k3,v3)*\n",
        "groupby ((k2,v2)*) -> (k2,v2*)*\n",
        "flatten (e2**) -> e2*\n",
        "\n",
        "mapreduce .map(f).flatten.groupby(k2).map(g).flatten\n",
        "```\n",
        "\n",
        "\n"
      ]
    },
    {
      "cell_type": "markdown",
      "metadata": {
        "id": "QtTFyqke3KGe"
      },
      "source": [
        "# Примеры"
      ]
    },
    {
      "cell_type": "markdown",
      "metadata": {
        "id": "BNhh5763w5Vn"
      },
      "source": [
        "## SQL"
      ]
    },
    {
      "cell_type": "code",
      "metadata": {
        "id": "QkyurnvGxBGk",
        "colab": {
          "base_uri": "https://localhost:8080/"
        },
        "outputId": "c242f8ef-dfa4-4300-c47c-d554e4b9975a"
      },
      "source": [
        "from typing import NamedTuple # requires python 3.6+\n",
        "from typing import Iterator\n",
        "\n",
        "class User(NamedTuple):\n",
        "  id: int\n",
        "  age: str\n",
        "  social_contacts: int\n",
        "  gender: str\n",
        "\n",
        "input_collection = [\n",
        "    User(id=0, age=55, gender='male', social_contacts=20),\n",
        "    User(id=1, age=25, gender='female', social_contacts=240),\n",
        "    User(id=2, age=25, gender='female', social_contacts=500),\n",
        "    User(id=3, age=33, gender='female', social_contacts=800)\n",
        "]\n",
        "\n",
        "def MAP(_, row:NamedTuple):\n",
        "  if (row.gender == 'female'):\n",
        "    yield (row.age, row)\n",
        "\n",
        "def REDUCE(age:str, rows:Iterator[NamedTuple]):\n",
        "  sum = 0\n",
        "  count = 0\n",
        "  for row in rows:\n",
        "    sum += row.social_contacts\n",
        "    count += 1\n",
        "  if (count > 0):\n",
        "    yield (age, sum/count)\n",
        "  else:\n",
        "    yield (age, 0)\n",
        "\n",
        "def RECORDREADER():\n",
        "  return [(u.id, u) for u in input_collection]\n",
        "\n",
        "output = MapReduce(RECORDREADER, MAP, REDUCE)\n",
        "output = list(output)\n",
        "output"
      ],
      "execution_count": null,
      "outputs": [
        {
          "output_type": "execute_result",
          "data": {
            "text/plain": [
              "[(25, 370.0), (33, 800.0)]"
            ]
          },
          "metadata": {},
          "execution_count": 127
        }
      ]
    },
    {
      "cell_type": "markdown",
      "metadata": {
        "id": "kNKYIeerx0nY"
      },
      "source": [
        "## Matrix-Vector multiplication"
      ]
    },
    {
      "cell_type": "code",
      "metadata": {
        "id": "rwcntRcCyi1V",
        "colab": {
          "base_uri": "https://localhost:8080/"
        },
        "outputId": "f97c0f4f-c68a-47e6-d1d6-9839f64971f9"
      },
      "source": [
        "from typing import Iterator\n",
        "import numpy as np\n",
        "\n",
        "mat = np.ones((5,4))\n",
        "vec = np.random.rand(4) # in-memory vector in all map tasks\n",
        "\n",
        "def MAP(coordinates:(int, int), value:int):\n",
        "  i, j = coordinates\n",
        "  yield (i, value*vec[j])\n",
        "\n",
        "def REDUCE(i:int, products:Iterator[NamedTuple]):\n",
        "  sum = 0\n",
        "  for p in products:\n",
        "    sum += p\n",
        "  yield (i, sum)\n",
        "\n",
        "def RECORDREADER():\n",
        "  for i in range(mat.shape[0]):\n",
        "    for j in range(mat.shape[1]):\n",
        "      yield ((i, j), mat[i,j])\n",
        "\n",
        "output = MapReduce(RECORDREADER, MAP, REDUCE)\n",
        "output = list(output)\n",
        "output"
      ],
      "execution_count": null,
      "outputs": [
        {
          "output_type": "execute_result",
          "data": {
            "text/plain": [
              "[(0, 1.5987522744933476),\n",
              " (1, 1.5987522744933476),\n",
              " (2, 1.5987522744933476),\n",
              " (3, 1.5987522744933476),\n",
              " (4, 1.5987522744933476)]"
            ]
          },
          "metadata": {},
          "execution_count": 128
        }
      ]
    },
    {
      "cell_type": "markdown",
      "metadata": {
        "id": "ruZREYdi2o4O"
      },
      "source": [
        "## Inverted index"
      ]
    },
    {
      "cell_type": "code",
      "metadata": {
        "id": "vt9H9Alf3TYv",
        "colab": {
          "base_uri": "https://localhost:8080/"
        },
        "outputId": "fd25517b-2f83-4f79-be6c-666c3bed329f"
      },
      "source": [
        "from typing import Iterator\n",
        "\n",
        "d1 = \"it is what it is\"\n",
        "d2 = \"what is it\"\n",
        "d3 = \"it is a banana\"\n",
        "documents = [d1, d2, d3]\n",
        "\n",
        "def RECORDREADER():\n",
        "  for (docid, document) in enumerate(documents):\n",
        "    yield (\"{}\".format(docid), document)\n",
        "\n",
        "def MAP(docId:str, body:str):\n",
        "  for word in set(body.split(' ')):\n",
        "    yield (word, docId)\n",
        "\n",
        "def REDUCE(word:str, docIds:Iterator[str]):\n",
        "  yield (word, sorted(docIds))\n",
        "\n",
        "output = MapReduce(RECORDREADER, MAP, REDUCE)\n",
        "output = list(output)\n",
        "output"
      ],
      "execution_count": null,
      "outputs": [
        {
          "output_type": "execute_result",
          "data": {
            "text/plain": [
              "[('is', ['0', '1', '2']),\n",
              " ('what', ['0', '1']),\n",
              " ('it', ['0', '1', '2']),\n",
              " ('banana', ['2']),\n",
              " ('a', ['2'])]"
            ]
          },
          "metadata": {},
          "execution_count": 129
        }
      ]
    },
    {
      "cell_type": "markdown",
      "metadata": {
        "id": "R7az-6DA6qr2"
      },
      "source": [
        "## WordCount"
      ]
    },
    {
      "cell_type": "code",
      "metadata": {
        "id": "dN-nbtgG6uYG",
        "colab": {
          "base_uri": "https://localhost:8080/"
        },
        "outputId": "08a19abf-2737-48d2-fec9-c7987d6468e3"
      },
      "source": [
        "from typing import Iterator\n",
        "\n",
        "d1 = \"\"\"\n",
        "it is what it is\n",
        "it is what it is\n",
        "it is what it is\"\"\"\n",
        "d2 = \"\"\"\n",
        "what is it\n",
        "what is it\"\"\"\n",
        "d3 = \"\"\"\n",
        "it is a banana\"\"\"\n",
        "documents = [d1, d2, d3]\n",
        "\n",
        "def RECORDREADER():\n",
        "  for (docid, document) in enumerate(documents):\n",
        "    for (lineid, line) in enumerate(document.split('\\n')):\n",
        "      yield (\"{}:{}\".format(docid,lineid), line)\n",
        "\n",
        "def MAP(docId:str, line:str):\n",
        "  for word in line.split(\" \"):\n",
        "    yield (word, 1)\n",
        "\n",
        "def REDUCE(word:str, counts:Iterator[int]):\n",
        "  sum = 0\n",
        "  for c in counts:\n",
        "    sum += c\n",
        "  yield (word, sum)\n",
        "\n",
        "output = MapReduce(RECORDREADER, MAP, REDUCE)\n",
        "output = list(output)\n",
        "output"
      ],
      "execution_count": null,
      "outputs": [
        {
          "output_type": "execute_result",
          "data": {
            "text/plain": [
              "[('', 3), ('it', 9), ('is', 9), ('what', 5), ('a', 1), ('banana', 1)]"
            ]
          },
          "metadata": {},
          "execution_count": 130
        }
      ]
    },
    {
      "cell_type": "markdown",
      "metadata": {
        "id": "h-jRAcYCAkkk"
      },
      "source": [
        "# MapReduce Distributed\n",
        "\n",
        "Добавляется в модель фабрика RECORDREARER-ов --- INPUTFORMAT, функция распределения промежуточных результатов по партициям PARTITIONER, и функция COMBINER для частичной аггрегации промежуточных результатов до распределения по новым партициям."
      ]
    },
    {
      "cell_type": "code",
      "metadata": {
        "id": "nw-b-xJsApgW"
      },
      "source": [
        "def flatten(nested_iterable):\n",
        "  for iterable in nested_iterable:\n",
        "    for element in iterable:\n",
        "      yield element\n",
        "\n",
        "def groupbykey(iterable):\n",
        "  t = {}\n",
        "  for (k2, v2) in iterable:\n",
        "    t[k2] = t.get(k2, []) + [v2]\n",
        "  return t.items()\n",
        "\n",
        "def groupbykey_distributed(map_partitions, PARTITIONER):\n",
        "  global reducers\n",
        "  partitions = [dict() for _ in range(reducers)]\n",
        "  for map_partition in map_partitions:\n",
        "    for (k2, v2) in map_partition:\n",
        "      p = partitions[PARTITIONER(k2)]\n",
        "      p[k2] = p.get(k2, []) + [v2]\n",
        "  return [(partition_id, sorted(partition.items(), key=lambda x: x[0])) for (partition_id, partition) in enumerate(partitions)]\n",
        "\n",
        "def PARTITIONER(obj):\n",
        "  global reducers\n",
        "  return hash(obj) % reducers\n",
        "\n",
        "def MapReduceDistributed(INPUTFORMAT, MAP, REDUCE, PARTITIONER=PARTITIONER, COMBINER=None):\n",
        "  map_partitions = map(lambda record_reader: flatten(map(lambda k1v1: MAP(*k1v1), record_reader)), INPUTFORMAT())\n",
        "  if COMBINER != None:\n",
        "    map_partitions = map(lambda map_partition: flatten(map(lambda k2v2: COMBINER(*k2v2), groupbykey(map_partition))), map_partitions)\n",
        "  reduce_partitions = groupbykey_distributed(map_partitions, PARTITIONER) # shuffle\n",
        "  reduce_outputs = map(lambda reduce_partition: (reduce_partition[0], flatten(map(lambda reduce_input_group: REDUCE(*reduce_input_group), reduce_partition[1]))), reduce_partitions)\n",
        "\n",
        "  print(\"{} key-value pairs were sent over a network.\".format(sum([len(vs) for (k,vs) in flatten([partition for (partition_id, partition) in reduce_partitions])])))\n",
        "  return reduce_outputs"
      ],
      "execution_count": null,
      "outputs": []
    },
    {
      "cell_type": "markdown",
      "metadata": {
        "id": "kxirlf3XqZxY"
      },
      "source": [
        "## Спецификация MapReduce Distributed\n",
        "\n",
        "\n",
        "```\n",
        "f (k1, v1) -> (k2,v2)*\n",
        "g (k2, v2*) -> (k3,v3)*\n",
        "\n",
        "e1 (k1, v1)\n",
        "e2 (k2, v2)\n",
        "partition1 (k2, v2)*\n",
        "partition2 (k2, v2*)*\n",
        "\n",
        "flatmap (e1->e2*, e1*) -> partition1*\n",
        "groupby (partition1*) -> partition2*\n",
        "\n",
        "mapreduce ((k1,v1)*) -> (k3,v3)*\n",
        "mapreduce .flatmap(f).groupby(k2).flatmap(g)\n",
        "```\n",
        "\n"
      ]
    },
    {
      "cell_type": "markdown",
      "metadata": {
        "id": "CWYw_CpbbY3C"
      },
      "source": [
        "## WordCount"
      ]
    },
    {
      "cell_type": "code",
      "metadata": {
        "id": "uR_zfGFkMZlp",
        "colab": {
          "base_uri": "https://localhost:8080/"
        },
        "outputId": "d60cd838-c6cc-46d8-a1f0-1b834e3d0277"
      },
      "source": [
        "from typing import Iterator\n",
        "import numpy as np\n",
        "\n",
        "d1 = \"\"\"\n",
        "it is what it is\n",
        "it is what it is\n",
        "it is what it is\"\"\"\n",
        "d2 = \"\"\"\n",
        "what is it\n",
        "what is it\"\"\"\n",
        "d3 = \"\"\"\n",
        "it is a banana\"\"\"\n",
        "documents = [d1, d2, d3, d1, d2, d3]\n",
        "\n",
        "maps = 3\n",
        "reducers = 2\n",
        "\n",
        "def INPUTFORMAT():\n",
        "  global maps\n",
        "\n",
        "  def RECORDREADER(split):\n",
        "    for (docid, document) in enumerate(split):\n",
        "      for (lineid, line) in enumerate(document.split('\\n')):\n",
        "        yield (\"{}:{}\".format(docid,lineid), line)\n",
        "\n",
        "  split_size =  int(np.ceil(len(documents)/maps))\n",
        "  for i in range(0, len(documents), split_size):\n",
        "    yield RECORDREADER(documents[i:i+split_size])\n",
        "\n",
        "def MAP(docId:str, line:str):\n",
        "  for word in line.split(\" \"):\n",
        "    yield (word, 1)\n",
        "\n",
        "def REDUCE(word:str, counts:Iterator[int]):\n",
        "  sum = 0\n",
        "  for c in counts:\n",
        "    sum += c\n",
        "  yield (word, sum)\n",
        "\n",
        "# try to set COMBINER=REDUCER and look at the number of values sent over the network\n",
        "partitioned_output = MapReduceDistributed(INPUTFORMAT, MAP, REDUCE, COMBINER=None)\n",
        "partitioned_output = [(partition_id, list(partition)) for (partition_id, partition) in partitioned_output]\n",
        "partitioned_output"
      ],
      "execution_count": null,
      "outputs": [
        {
          "output_type": "stream",
          "name": "stdout",
          "text": [
            "56 key-value pairs were sent over a network.\n"
          ]
        },
        {
          "output_type": "execute_result",
          "data": {
            "text/plain": [
              "[(0, [('', 6), ('a', 2), ('it', 18)]),\n",
              " (1, [('banana', 2), ('is', 18), ('what', 10)])]"
            ]
          },
          "metadata": {},
          "execution_count": 132
        }
      ]
    },
    {
      "cell_type": "markdown",
      "metadata": {
        "id": "gCJGx8IQ87xS"
      },
      "source": [
        "## TeraSort"
      ]
    },
    {
      "cell_type": "code",
      "metadata": {
        "id": "P2v8v1v_8_YR",
        "colab": {
          "base_uri": "https://localhost:8080/"
        },
        "outputId": "46b9ab49-673c-4ec6-c35d-d9c3b640e002"
      },
      "source": [
        "import numpy as np\n",
        "\n",
        "input_values = np.random.rand(30)\n",
        "maps = 3\n",
        "reducers = 2\n",
        "min_value = 0.0\n",
        "max_value = 1.0\n",
        "\n",
        "def INPUTFORMAT():\n",
        "  global maps\n",
        "\n",
        "  def RECORDREADER(split):\n",
        "    for value in split:\n",
        "        yield (value, None)\n",
        "\n",
        "  split_size =  int(np.ceil(len(input_values)/maps))\n",
        "  for i in range(0, len(input_values), split_size):\n",
        "    yield RECORDREADER(input_values[i:i+split_size])\n",
        "\n",
        "def MAP(value:int, _):\n",
        "  yield (value, None)\n",
        "\n",
        "def PARTITIONER(key):\n",
        "  global reducers\n",
        "  global max_value\n",
        "  global min_value\n",
        "  bucket_size = (max_value-min_value)/reducers\n",
        "  bucket_id = 0\n",
        "  while((key>(bucket_id+1)*bucket_size) and ((bucket_id+1)*bucket_size<max_value)):\n",
        "    bucket_id += 1\n",
        "  return bucket_id\n",
        "\n",
        "def REDUCE(value:int, _):\n",
        "  yield (None,value)\n",
        "\n",
        "partitioned_output = MapReduceDistributed(INPUTFORMAT, MAP, REDUCE, COMBINER=None, PARTITIONER=PARTITIONER)\n",
        "partitioned_output = [(partition_id, list(partition)) for (partition_id, partition) in partitioned_output]\n",
        "partitioned_output"
      ],
      "execution_count": null,
      "outputs": [
        {
          "output_type": "stream",
          "name": "stdout",
          "text": [
            "30 key-value pairs were sent over a network.\n"
          ]
        },
        {
          "output_type": "execute_result",
          "data": {
            "text/plain": [
              "[(0,\n",
              "  [(None, 0.003581110070612459),\n",
              "   (None, 0.059226068424185985),\n",
              "   (None, 0.09637847188836224),\n",
              "   (None, 0.15722779700252032),\n",
              "   (None, 0.21437422874777923),\n",
              "   (None, 0.2393372231746721),\n",
              "   (None, 0.2831335025224506),\n",
              "   (None, 0.2926907282827602),\n",
              "   (None, 0.3322742834524207),\n",
              "   (None, 0.34474769991995413),\n",
              "   (None, 0.36351367386224653),\n",
              "   (None, 0.39836579738488886),\n",
              "   (None, 0.4122338533497053),\n",
              "   (None, 0.4298450810309804),\n",
              "   (None, 0.4753146139166151)]),\n",
              " (1,\n",
              "  [(None, 0.5603922229968513),\n",
              "   (None, 0.5664923070927802),\n",
              "   (None, 0.6001731494029006),\n",
              "   (None, 0.6299992041240836),\n",
              "   (None, 0.6731321104363888),\n",
              "   (None, 0.7036490125393071),\n",
              "   (None, 0.7036801029105392),\n",
              "   (None, 0.8261403284806825),\n",
              "   (None, 0.8341704743669328),\n",
              "   (None, 0.8498491314147857),\n",
              "   (None, 0.8989169174971396),\n",
              "   (None, 0.9185265502678995),\n",
              "   (None, 0.9733334312371444),\n",
              "   (None, 0.9971321940951793),\n",
              "   (None, 0.9998334209836808)])]"
            ]
          },
          "metadata": {},
          "execution_count": 133
        }
      ]
    },
    {
      "cell_type": "code",
      "metadata": {
        "id": "MQhoJaVZI93G"
      },
      "source": [],
      "execution_count": null,
      "outputs": []
    },
    {
      "cell_type": "markdown",
      "metadata": {
        "id": "Iy65YJTH99iT"
      },
      "source": [
        "# Упражнения\n",
        "Упражнения взяты из Rajaraman A., Ullman J. D. Mining of massive datasets. – Cambridge University Press, 2011.\n",
        "\n",
        "\n",
        "Для выполнения заданий переопределите функции RECORDREADER, MAP, REDUCE. Для модели распределённой системы может потребоваться переопределение функций PARTITION и COMBINER."
      ]
    },
    {
      "cell_type": "markdown",
      "metadata": {
        "id": "cfvAeZm3S8S8"
      },
      "source": [
        "### Максимальное значение ряда\n",
        "\n",
        "Разработайте MapReduce алгоритм, который находит максимальное число входного списка чисел."
      ]
    },
    {
      "cell_type": "code",
      "metadata": {
        "id": "3GRA1JR-Tkbg",
        "colab": {
          "base_uri": "https://localhost:8080/"
        },
        "outputId": "04349ca6-0cba-428d-a035-b384730888c5"
      },
      "source": [
        "import random\n",
        "\n",
        "def MAP(key: int, value: NamedTuple):\n",
        "  yield (0, value)\n",
        "\n",
        "def REDUCE(key: int, rows: Iterator[NamedTuple]):\n",
        "  yield max(rows)\n",
        "\n",
        "def RECORDREADER():\n",
        "    result = []\n",
        "    for i in range(444):\n",
        "        result.append((i, random.randint(0, 1024)))\n",
        "    return result\n",
        "\n",
        "res = MapReduce(RECORDREADER, MAP, REDUCE)\n",
        "print(list(res))"
      ],
      "execution_count": null,
      "outputs": [
        {
          "output_type": "stream",
          "name": "stdout",
          "text": [
            "[1024]\n"
          ]
        }
      ]
    },
    {
      "cell_type": "markdown",
      "metadata": {
        "id": "k86bXnqZTk-U"
      },
      "source": [
        "### Арифметическое среднее\n",
        "\n",
        "Разработайте MapReduce алгоритм, который находит арифметическое среднее.\n",
        "\n",
        "$$\\overline{X} = \\frac{1}{n}\\sum_{i=0}^{n} x_i$$\n"
      ]
    },
    {
      "cell_type": "code",
      "source": [
        "import random\n",
        "\n",
        "def MAP(key: int, value: int):\n",
        "  yield (0, value)\n",
        "\n",
        "def REDUCE(key: int, rows: Iterator[NamedTuple]):\n",
        "  yield sum(rows) / len(rows)\n",
        "\n",
        "res = MapReduce(RECORDREADER, MAP, REDUCE)\n",
        "print(list(res))"
      ],
      "metadata": {
        "colab": {
          "base_uri": "https://localhost:8080/"
        },
        "id": "h0Q-e6B9ue-m",
        "outputId": "a4a3a49b-ed98-4a1b-d759-a95dd6110ba0"
      },
      "execution_count": null,
      "outputs": [
        {
          "output_type": "stream",
          "name": "stdout",
          "text": [
            "[494.4684684684685]\n"
          ]
        }
      ]
    },
    {
      "cell_type": "markdown",
      "metadata": {
        "id": "xanzszhsIlLe"
      },
      "source": [
        "### GroupByKey на основе сортировки\n",
        "\n",
        "Реализуйте groupByKey на основе сортировки, проверьте его работу на примерах"
      ]
    },
    {
      "cell_type": "code",
      "metadata": {
        "id": "hQPn3USsIkEC",
        "colab": {
          "base_uri": "https://localhost:8080/"
        },
        "outputId": "fce17006-6117-48af-95a1-0979cb7c9806"
      },
      "source": [
        "def groupbykey_sort(iterable):\n",
        "  t = {}\n",
        "  for (k2, v2) in iterable:\n",
        "    t[k2] = t.get(k2, []) + [v2]\n",
        "  for k2 in t:\n",
        "    t[k2] = sorted(t[k2])\n",
        "  return t.items()\n",
        "\n",
        "print(groupbykey_sort(flatten(map(lambda x: MAP(*x), RECORDREADER()))))"
      ],
      "execution_count": null,
      "outputs": [
        {
          "output_type": "stream",
          "name": "stdout",
          "text": [
            "dict_items([(0, [0, 5, 6, 7, 9, 13, 15, 17, 18, 19, 22, 25, 25, 26, 27, 27, 28, 32, 34, 36, 38, 42, 43, 52, 57, 57, 65, 66, 69, 73, 76, 76, 79, 81, 83, 85, 85, 92, 96, 96, 97, 100, 101, 101, 102, 102, 103, 105, 106, 114, 119, 122, 124, 126, 127, 130, 132, 133, 133, 136, 137, 140, 140, 141, 143, 149, 153, 159, 159, 162, 164, 164, 168, 170, 174, 177, 181, 182, 187, 187, 188, 188, 192, 192, 193, 195, 195, 197, 201, 201, 204, 206, 215, 218, 219, 222, 226, 228, 229, 237, 238, 240, 241, 247, 248, 250, 251, 260, 262, 267, 272, 274, 277, 277, 279, 282, 290, 290, 291, 292, 292, 295, 296, 296, 297, 298, 299, 300, 304, 304, 308, 312, 314, 315, 315, 319, 319, 319, 323, 331, 333, 334, 335, 337, 339, 341, 342, 342, 343, 346, 346, 349, 350, 352, 353, 353, 357, 358, 363, 364, 365, 365, 367, 368, 368, 369, 370, 372, 375, 380, 381, 383, 385, 386, 388, 392, 397, 397, 400, 401, 405, 408, 409, 410, 414, 417, 417, 418, 419, 426, 427, 428, 429, 433, 435, 436, 439, 441, 443, 445, 449, 450, 450, 451, 453, 453, 455, 455, 457, 457, 459, 462, 463, 464, 465, 467, 469, 471, 473, 473, 481, 483, 485, 486, 486, 487, 494, 495, 496, 496, 497, 497, 507, 509, 514, 517, 520, 527, 528, 529, 529, 530, 530, 533, 535, 535, 539, 541, 542, 542, 547, 551, 555, 560, 563, 563, 570, 574, 575, 576, 578, 585, 589, 589, 592, 594, 594, 601, 602, 602, 603, 603, 604, 608, 611, 612, 614, 621, 621, 629, 632, 632, 638, 642, 643, 644, 649, 650, 652, 657, 661, 662, 664, 667, 667, 668, 669, 674, 675, 677, 682, 685, 686, 691, 697, 698, 700, 702, 703, 704, 706, 707, 707, 710, 716, 719, 723, 724, 725, 725, 730, 734, 735, 735, 736, 737, 737, 738, 740, 748, 752, 752, 754, 754, 760, 761, 761, 767, 778, 784, 785, 785, 785, 787, 792, 795, 800, 801, 801, 803, 807, 811, 815, 817, 819, 822, 825, 831, 834, 834, 834, 836, 837, 842, 846, 847, 849, 850, 851, 852, 859, 861, 862, 867, 867, 869, 871, 872, 872, 879, 880, 881, 881, 881, 887, 889, 894, 897, 898, 899, 901, 905, 906, 906, 907, 907, 909, 911, 913, 919, 920, 920, 921, 921, 925, 929, 932, 935, 938, 938, 940, 953, 953, 953, 959, 959, 959, 960, 963, 967, 973, 976, 976, 978, 983, 987, 996, 996, 998, 1000, 1000, 1007, 1008, 1009, 1012, 1012, 1013, 1015, 1015, 1016, 1018, 1018, 1023, 1024])])\n"
          ]
        }
      ]
    },
    {
      "cell_type": "markdown",
      "metadata": {
        "id": "5SgEjCZyGnu6"
      },
      "source": [
        "### Drop duplicates (set construction, unique elements, distinct)\n",
        "\n",
        "Реализуйте распределённую операцию исключения дубликатов"
      ]
    },
    {
      "cell_type": "code",
      "metadata": {
        "id": "okjbyApjGhMt",
        "colab": {
          "base_uri": "https://localhost:8080/"
        },
        "outputId": "7cdc7840-6ab3-4709-9db2-f518cc7727ee"
      },
      "source": [
        "def MAP(key: int, value: NamedTuple):\n",
        "  yield (value, value)\n",
        "\n",
        "def REDUCE(key: int, rows: Iterator[NamedTuple]):\n",
        "  yield key\n",
        "\n",
        "res = list(MapReduce(RECORDREADER, MAP, REDUCE))\n",
        "print(res)\n",
        "has_duplicates = len(res) != len(set(res))\n",
        "print('elements is duplicates: ', has_duplicates)"
      ],
      "execution_count": null,
      "outputs": [
        {
          "output_type": "stream",
          "name": "stdout",
          "text": [
            "[254, 221, 685, 868, 806, 314, 406, 209, 706, 620, 497, 644, 364, 438, 402, 513, 714, 875, 461, 166, 583, 350, 859, 751, 66, 40, 1022, 125, 207, 3, 340, 661, 788, 515, 223, 569, 761, 236, 587, 726, 96, 613, 677, 813, 69, 471, 54, 424, 658, 222, 926, 80, 941, 168, 135, 218, 383, 289, 622, 13, 916, 675, 235, 757, 834, 282, 793, 392, 122, 395, 669, 562, 713, 56, 26, 9, 164, 780, 44, 371, 891, 388, 415, 171, 81, 290, 285, 429, 37, 259, 445, 91, 241, 710, 610, 233, 893, 543, 1013, 649, 919, 55, 985, 522, 458, 403, 111, 414, 175, 811, 662, 73, 530, 848, 386, 1002, 911, 765, 1005, 173, 196, 619, 373, 912, 255, 573, 719, 466, 422, 92, 741, 151, 657, 197, 696, 499, 469, 854, 888, 948, 419, 397, 441, 576, 439, 723, 432, 23, 489, 572, 574, 299, 452, 325, 621, 650, 920, 366, 842, 296, 840, 478, 586, 492, 100, 534, 410, 165, 79, 770, 695, 421, 42, 198, 592, 551, 774, 245, 959, 929, 511, 387, 268, 904, 760, 681, 1023, 827, 63, 116, 1007, 61, 494, 379, 676, 560, 902, 667, 71, 632, 1000, 640, 484, 795, 280, 213, 273, 880, 945, 217, 74, 58, 783, 339, 901, 591, 563, 400, 654, 900, 983, 805, 928, 940, 523, 652, 516, 787, 246, 495, 802, 154, 894, 809, 506, 578, 169, 886, 796, 762, 970, 571, 636, 856, 433, 146, 535, 585, 596, 123, 679, 716, 4, 737, 183, 908, 382, 179, 752, 887, 712, 547, 195, 899, 267, 659, 981, 361, 97, 316, 721, 390, 227, 882, 568, 230, 818, 711, 773, 579, 577, 348, 457, 942, 265, 342, 425, 380, 220, 557, 437, 274, 305, 467, 633, 914, 444, 443, 729, 33, 689, 331, 202, 570, 8, 558, 753, 624, 1003, 546, 234, 358, 702, 949, 283, 817, 766, 78, 277, 200, 564, 684, 127, 552, 581, 694, 319, 651, 623, 910, 1008, 462, 693, 359, 617, 278, 19, 992, 873, 203, 263, 413, 957, 193, 890, 536, 954, 666, 188, 476, 126, 178, 10, 1001, 686, 408, 211, 816, 194]\n",
            "elements is duplicates:  False\n"
          ]
        }
      ]
    },
    {
      "cell_type": "markdown",
      "metadata": {
        "id": "e7sRGoTXuJze"
      },
      "source": [
        "#Операторы реляционной алгебры\n",
        "### Selection (Выборка)\n",
        "\n",
        "**The Map Function**: Для  каждого кортежа $t \\in R$ вычисляется истинность предиката $C$. В случае истины создаётся пара ключ-значение $(t, t)$. В паре ключ и значение одинаковы, равны $t$.\n",
        "\n",
        "**The Reduce Function:** Роль функции Reduce выполняет функция идентичности, которая возвращает то же значение, что получила на вход.\n",
        "\n"
      ]
    },
    {
      "cell_type": "code",
      "metadata": {
        "id": "4nKIKe59uIfc",
        "colab": {
          "base_uri": "https://localhost:8080/"
        },
        "outputId": "2f90efd8-2117-4f9a-fa74-2d0da7ee8618"
      },
      "source": [
        "input_collection = [\n",
        "    User(id=0, age=55, gender='male', social_contacts=20),\n",
        "    User(id=1, age=25, gender='female', social_contacts=240),\n",
        "    User(id=2, age=25, gender='female', social_contacts=500),\n",
        "    User(id=3, age=33, gender='female', social_contacts=800)\n",
        "]\n",
        "\n",
        "def MAP(key: int, value: NamedTuple):\n",
        "  if value.gender == 'female':\n",
        "    yield (value, value)\n",
        "\n",
        "def REDUCE(key: int, rows: Iterator[NamedTuple]):\n",
        "  yield rows\n",
        "\n",
        "def RECORDREADER():\n",
        "    return [(u.id, u) for u in input_collection]\n",
        "\n",
        "res = list(MapReduce(RECORDREADER, MAP, REDUCE))\n",
        "print(res)"
      ],
      "execution_count": null,
      "outputs": [
        {
          "output_type": "stream",
          "name": "stdout",
          "text": [
            "[[User(id=1, age=25, social_contacts=240, gender='female')], [User(id=2, age=25, social_contacts=500, gender='female')], [User(id=3, age=33, social_contacts=800, gender='female')]]\n"
          ]
        }
      ]
    },
    {
      "cell_type": "markdown",
      "metadata": {
        "id": "w27Ca-_Ku85V"
      },
      "source": [
        "### Projection (Проекция)\n",
        "\n",
        "Проекция на множество атрибутов $S$.\n",
        "\n",
        "**The Map Function:** Для каждого кортежа $t \\in R$ создайте кортеж $t′$, исключая  из $t$ те значения, атрибуты которых не принадлежат  $S$. Верните пару $(t′, t′)$.\n",
        "\n",
        "**The Reduce Function:** Для каждого ключа $t′$, созданного любой Map задачей, вы получаете одну или несколько пар $(t′, t′)$. Reduce функция преобразует $(t′, [t′, t′, . . . , t′])$ в $(t′, t′)$, так, что для ключа $t′$ возвращается одна пара  $(t′, t′)$."
      ]
    },
    {
      "cell_type": "code",
      "metadata": {
        "id": "BEvuY4GqvhS6",
        "colab": {
          "base_uri": "https://localhost:8080/"
        },
        "outputId": "ab664ac9-f26d-4244-b6eb-b1597ef2a402"
      },
      "source": [
        "def MAP(key: int, value: NamedTuple):\n",
        "  yield (value.gender, value.gender)\n",
        "\n",
        "def REDUCE(key: int, rows: Iterator[NamedTuple]):\n",
        "  yield (key, rows)\n",
        "\n",
        "def RECORDREADER():\n",
        "    return [(u.id, u) for u in input_collection]\n",
        "\n",
        "res = list(MapReduce(RECORDREADER, MAP, REDUCE))\n",
        "print(res)"
      ],
      "execution_count": null,
      "outputs": [
        {
          "output_type": "stream",
          "name": "stdout",
          "text": [
            "[('male', ['male']), ('female', ['female', 'female', 'female'])]\n"
          ]
        }
      ]
    },
    {
      "cell_type": "markdown",
      "metadata": {
        "id": "7gau6lKXvn2R"
      },
      "source": [
        "### Union (Объединение)\n",
        "\n",
        "**The Map Function:** Превратите каждый входной кортеж $t$ в пару ключ-значение $(t, t)$.\n",
        "\n",
        "**The Reduce Function:** С каждым ключом $t$ будет ассоциировано одно или два значений. В обоих случаях создайте $(t, t)$ в качестве выходного значения."
      ]
    },
    {
      "cell_type": "code",
      "metadata": {
        "id": "Sns7a5agv3nw",
        "colab": {
          "base_uri": "https://localhost:8080/"
        },
        "outputId": "b7dc65b3-4532-4588-c48d-a3c90fd89d0b"
      },
      "source": [
        "ls_1 = [\n",
        "    User(id=0, age=55, gender='male', social_contacts=20),\n",
        "    User(id=1, age=25, gender='female', social_contacts=240),\n",
        "    User(id=2, age=25, gender='female', social_contacts=500),\n",
        "    User(id=3, age=33, gender='female', social_contacts=800),\n",
        "    User(id=4, age=16, gender='male', social_contacts=420),\n",
        "]\n",
        "ls_2 = [\n",
        "    User(id=2, age=25, gender='female', social_contacts=500),\n",
        "    User(id=5, age=18, gender='male', social_contacts=322),\n",
        "    User(id=6, age=23, gender='male', social_contacts=228),\n",
        "]\n",
        "\n",
        "def MAP(key: int, value: NamedTuple):\n",
        "  yield (value, value)\n",
        "\n",
        "def REDUCE(key: int, rows: Iterator[NamedTuple]):\n",
        "  yield (key, key)\n",
        "\n",
        "def RECORDREADER():\n",
        "    return [(u.id, u) for u in ls_1 + ls_2]\n",
        "\n",
        "res = list(MapReduce(RECORDREADER, MAP, REDUCE))\n",
        "print(res)"
      ],
      "execution_count": null,
      "outputs": [
        {
          "output_type": "stream",
          "name": "stdout",
          "text": [
            "[(User(id=0, age=55, social_contacts=20, gender='male'), User(id=0, age=55, social_contacts=20, gender='male')), (User(id=1, age=25, social_contacts=240, gender='female'), User(id=1, age=25, social_contacts=240, gender='female')), (User(id=2, age=25, social_contacts=500, gender='female'), User(id=2, age=25, social_contacts=500, gender='female')), (User(id=3, age=33, social_contacts=800, gender='female'), User(id=3, age=33, social_contacts=800, gender='female')), (User(id=4, age=16, social_contacts=420, gender='male'), User(id=4, age=16, social_contacts=420, gender='male')), (User(id=5, age=18, social_contacts=322, gender='male'), User(id=5, age=18, social_contacts=322, gender='male')), (User(id=6, age=23, social_contacts=228, gender='male'), User(id=6, age=23, social_contacts=228, gender='male'))]\n"
          ]
        }
      ]
    },
    {
      "cell_type": "markdown",
      "metadata": {
        "id": "dQ8TuEbjv4J8"
      },
      "source": [
        "### Intersection (Пересечение)\n",
        "\n",
        "**The Map Function:** Превратите каждый кортеж $t$ в пары ключ-значение $(t, t)$.\n",
        "\n",
        "**The Reduce Function:** Если для ключа $t$ есть список из двух элементов $[t, t]$ $-$ создайте пару $(t, t)$. Иначе, ничего не создавайте."
      ]
    },
    {
      "cell_type": "code",
      "metadata": {
        "id": "XKlBZh4IwERR",
        "colab": {
          "base_uri": "https://localhost:8080/"
        },
        "outputId": "b239bfe8-1ad4-4446-ab68-ec5f48986f13"
      },
      "source": [
        "def MAP(key: int, value: NamedTuple):\n",
        "  yield (value, value)\n",
        "\n",
        "def REDUCE(key: int, rows: Iterator[NamedTuple]):\n",
        "  if len(rows) > 1:\n",
        "    yield (key, key)\n",
        "\n",
        "def RECORDREADER():\n",
        "    return [(u.id, u) for u in ls_1 + ls_2]\n",
        "\n",
        "res = list(MapReduce(RECORDREADER, MAP, REDUCE))\n",
        "print(res)"
      ],
      "execution_count": null,
      "outputs": [
        {
          "output_type": "stream",
          "name": "stdout",
          "text": [
            "[(User(id=2, age=25, social_contacts=500, gender='female'), User(id=2, age=25, social_contacts=500, gender='female'))]\n"
          ]
        }
      ]
    },
    {
      "cell_type": "markdown",
      "metadata": {
        "id": "AVOpqoY3wE5k"
      },
      "source": [
        "### Difference (Разница)\n",
        "\n",
        "**The Map Function:** Для кортежа $t \\in R$, создайте пару $(t, R)$, и для кортежа $t \\in S$, создайте пару $(t, S)$. Задумка заключается в том, чтобы значение пары было именем отношения $R$ or $S$, которому принадлежит кортеж (а лучше, единичный бит, по которому можно два отношения различить $R$ or $S$), а не весь набор атрибутов отношения.\n",
        "\n",
        "**The Reduce Function:** Для каждого ключа $t$, если соответствующее значение является списком $[R]$, создайте пару $(t, t)$. В иных случаях не предпринимайте действий."
      ]
    },
    {
      "cell_type": "code",
      "metadata": {
        "id": "QE_AC09lwZIZ",
        "colab": {
          "base_uri": "https://localhost:8080/"
        },
        "outputId": "4e9b1856-62c2-4d09-e144-2f42aabf152b"
      },
      "source": [
        "def MAP(key, value):\n",
        "  if value in ls_1:\n",
        "    yield (value, 0)\n",
        "  elif value in ls_2:\n",
        "    yield (value, 1)\n",
        "\n",
        "def REDUCE(key, rows):\n",
        "  if (rows == [0]):\n",
        "    yield (key, key)\n",
        "\n",
        "def RECORDREADER():\n",
        "  return [(u.id, u) for u in ls_1 + ls_2]\n",
        "\n",
        "res = list(MapReduce(RECORDREADER, MAP, REDUCE))\n",
        "print(res)"
      ],
      "execution_count": null,
      "outputs": [
        {
          "output_type": "stream",
          "name": "stdout",
          "text": [
            "[(User(id=0, age=55, social_contacts=20, gender='male'), User(id=0, age=55, social_contacts=20, gender='male')), (User(id=1, age=25, social_contacts=240, gender='female'), User(id=1, age=25, social_contacts=240, gender='female')), (User(id=3, age=33, social_contacts=800, gender='female'), User(id=3, age=33, social_contacts=800, gender='female')), (User(id=4, age=16, social_contacts=420, gender='male'), User(id=4, age=16, social_contacts=420, gender='male'))]\n"
          ]
        }
      ]
    },
    {
      "cell_type": "markdown",
      "metadata": {
        "id": "j8I58V2VwhSm"
      },
      "source": [
        "### Natural Join\n",
        "\n",
        "**The Map Function:** Для каждого кортежа $(a, b)$ отношения $R$, создайте пару $(b,(R, a))$. Для каждого кортежа $(b, c)$ отношения $S$, создайте пару $(b,(S, c))$.\n",
        "\n",
        "**The Reduce Function:** Каждый ключ $b$ будет асоциирован со списком пар, которые принимают форму либо $(R, a)$, либо $(S, c)$. Создайте все пары, одни, состоящие из  первого компонента $R$, а другие, из первого компонента $S$, то есть $(R, a)$ и $(S, c)$. На выходе вы получаете последовательность пар ключ-значение из списков ключей и значений. Ключ не нужен. Каждое значение, это тройка $(a, b, c)$ такая, что $(R, a)$ и $(S, c)$ это принадлежат входному списку значений."
      ]
    },
    {
      "cell_type": "code",
      "metadata": {
        "id": "yHiuuTctw86I",
        "colab": {
          "base_uri": "https://localhost:8080/"
        },
        "outputId": "92e28a63-84f7-41a6-93bd-0770cbf7d317"
      },
      "source": [
        "class R(NamedTuple):\n",
        "  a: int\n",
        "  b: int\n",
        "\n",
        "class S(NamedTuple):\n",
        "  c: str\n",
        "  b: int\n",
        "\n",
        "ls_1 = [\n",
        "    R(a=1, b=1),\n",
        "    R(a=2, b=2),\n",
        "    R(a=7, b=2),\n",
        "    R(a=3, b=5)\n",
        "]\n",
        "ls_2 = [\n",
        "    S(c='sa', b=1),\n",
        "    S(c='sb', b=2),\n",
        "    S(c='sc', b=3)\n",
        "]\n",
        "\n",
        "def MAP(key, value):\n",
        "  if value in ls_1:\n",
        "    yield (value.b, (0, value.a))\n",
        "  elif value in ls_2:\n",
        "    yield (value.b, (1, value.c))\n",
        "\n",
        "def REDUCE(key, rows):\n",
        "  for r in rows:\n",
        "    if (r[0] == 0):\n",
        "      for s in rows:\n",
        "        if (s[0] == 1):\n",
        "          yield(key, r[1], s[1])\n",
        "\n",
        "def RECORDREADER():\n",
        "  return [(idx, u) for idx, u in enumerate(ls_1 + ls_2)]\n",
        "\n",
        "res = list(MapReduce(RECORDREADER, MAP, REDUCE))\n",
        "print(res)"
      ],
      "execution_count": null,
      "outputs": [
        {
          "output_type": "stream",
          "name": "stdout",
          "text": [
            "[(1, 1, 'sa'), (2, 2, 'sb'), (2, 7, 'sb')]\n"
          ]
        }
      ]
    },
    {
      "cell_type": "markdown",
      "metadata": {
        "id": "kYdlr0YUxE27"
      },
      "source": [
        "### Grouping and Aggregation (Группировка и аггрегация)\n",
        "\n",
        "**The Map Function:** Для каждого кортежа $(a, b, c$) создайте пару $(a, b)$.\n",
        "\n",
        "**The Reduce Function:** Ключ представляет ту или иную группу. Примение аггрегирующую операцию $\\theta$ к списку значений $[b1, b2, . . . , bn]$ ассоциированных с ключом $a$. Возвращайте в выходной поток $(a, x)$, где $x$ результат применения  $\\theta$ к списку. Например, если $\\theta$ это $SUM$, тогда $x = b1 + b2 + · · · + bn$, а если $\\theta$ is $MAX$, тогда $x$ это максимальное из значений $b1, b2, . . . , bn$."
      ]
    },
    {
      "cell_type": "code",
      "metadata": {
        "id": "MLPckfEGxico",
        "colab": {
          "base_uri": "https://localhost:8080/"
        },
        "outputId": "aa0074a8-1810-440e-bc91-4f4a9862804c"
      },
      "source": [
        "class Q(NamedTuple):\n",
        "  a: int\n",
        "  b: str\n",
        "  c: int\n",
        "\n",
        "ls = [\n",
        "    Q(1, \"a\", 3),\n",
        "    Q(2, \"a\", 2),\n",
        "    Q(3, \"b\", 4),\n",
        "]\n",
        "\n",
        "def MAP(key, value):\n",
        "    yield (value.b, value.c)\n",
        "\n",
        "def REDUCE(key, rows):\n",
        "    yield (key, max(rows))\n",
        "\n",
        "def RECORDREADER():\n",
        "  return [(idx, el) for idx, el in enumerate(ls)]\n",
        "\n",
        "res = list(MapReduce(RECORDREADER, MAP, REDUCE))\n",
        "print(res)"
      ],
      "execution_count": null,
      "outputs": [
        {
          "output_type": "stream",
          "name": "stdout",
          "text": [
            "[('a', 3), ('b', 4)]\n"
          ]
        }
      ]
    },
    {
      "cell_type": "markdown",
      "metadata": {
        "id": "03IffTEOJgOb"
      },
      "source": [
        "#"
      ]
    },
    {
      "cell_type": "markdown",
      "metadata": {
        "id": "IIrRgvG4RIS4"
      },
      "source": [
        "### Matrix-Vector multiplication\n",
        "\n",
        "Случай, когда вектор не помещается в памяти Map задачи\n"
      ]
    },
    {
      "cell_type": "code",
      "metadata": {
        "id": "KQhDbiL3zS9r",
        "colab": {
          "base_uri": "https://localhost:8080/"
        },
        "outputId": "645f1320-5af4-4e14-a11b-07be536dc40c"
      },
      "source": [
        "import numpy as np\n",
        "from typing import List\n",
        "\n",
        "ROWS = 5\n",
        "COLS = 4\n",
        "COUNT_OF_PARTS = 2\n",
        "\n",
        "COLS_IN_PART = COLS // COUNT_OF_PARTS\n",
        "\n",
        "Matrix = [np.ones((ROWS, COLS_IN_PART)) for _ in range(COUNT_OF_PARTS)]\n",
        "\n",
        "# Разделил вектор на несколько частей, которые должны поместиться в памяти\n",
        "\n",
        "vec = [np.random.rand(COLS_IN_PART) for _ in range(COUNT_OF_PARTS)]\n",
        "\n",
        "def MAP(coordinates:(int, int), value: int):\n",
        "  i, j = coordinates\n",
        "  yield (i, value * vec_tmp[j])\n",
        "\n",
        "def REDUCE(i: int, products: Iterator[NamedTuple]):\n",
        "  sum = 0\n",
        "  for p in products:\n",
        "    sum += p\n",
        "  yield (i, sum)\n",
        "\n",
        "def RECORDREADER():\n",
        "  global vec_tmp\n",
        "  for stripe_index, stripe in enumerate(Matrix):\n",
        "    vec_tmp = vec[stripe_index]\n",
        "    for i in range(stripe.shape[0]):\n",
        "      for j in range(stripe.shape[1]):\n",
        "        yield ((i, j), stripe[i, j])\n",
        "\n",
        "print(Matrix)\n",
        "print(vec)\n",
        "res = list(MapReduce(RECORDREADER, MAP, REDUCE))\n",
        "print(res)"
      ],
      "execution_count": null,
      "outputs": [
        {
          "output_type": "stream",
          "name": "stdout",
          "text": [
            "[array([[1., 1.],\n",
            "       [1., 1.],\n",
            "       [1., 1.],\n",
            "       [1., 1.],\n",
            "       [1., 1.]]), array([[1., 1.],\n",
            "       [1., 1.],\n",
            "       [1., 1.],\n",
            "       [1., 1.],\n",
            "       [1., 1.]])]\n",
            "[array([0.54817192, 0.02428041]), array([0.49193079, 0.78327993])]\n",
            "[(0, 1.847663053820144), (1, 1.847663053820144), (2, 1.847663053820144), (3, 1.847663053820144), (4, 1.847663053820144)]\n"
          ]
        }
      ]
    },
    {
      "cell_type": "markdown",
      "metadata": {
        "id": "GIo2t7nNxvA9"
      },
      "source": [
        "## Matrix multiplication (Перемножение матриц)\n",
        "\n",
        "Если у нас есть матрица $M$ с элементами $m_{ij}$ в строке $i$ и столбце $j$, и матрица $N$ с элементами $n_{jk}$ в строке $j$ и столбце $k$, тогда их произведение $P = MN$ есть матрица $P$ с элементами $p_{ik}$ в строке $i$ и столбце $k$, где\n",
        "\n",
        "$$p_{ik} =\\sum_{j} m_{ij}n_{jk}$$\n",
        "\n",
        "Необходимым требованием является одинаковое количество столбцов в $M$ и строк в $N$, чтобы операция суммирования по  $j$ была осмысленной. Мы можем размышлять о матрице, как об отношении с тремя атрибутами: номер строки, номер столбца, само значение. Таким образом матрица $M$ предстваляется как отношение $ M(I, J, V )$, с кортежами $(i, j, m_{ij})$, и, аналогично, матрица $N$ представляется как отношение $N(J, K, W)$, с кортежами $(j, k, n_{jk})$. Так как большие матрицы как правило разреженные (большинство значений равно 0), и так как мы можем нулевыми значениями пренебречь (не хранить), такое реляционное представление достаточно эффективно для больших матриц. Однако, возможно, что координаты $i$, $j$, и $k$ неявно закодированы в смещение позиции элемента относительно начала файла, вместо явного хранения. Тогда, функция Map (или Reader) должна быть разработана таким образом, чтобы реконструировать компоненты $I$, $J$, и $K$ кортежей из смещения.\n",
        "\n",
        "Произведение $MN$ это фактически join, за которым следуют группировка по ключу и аггрегация. Таким образом join отношений $M(I, J, V )$ и $N(J, K, W)$, имеющих общим только атрибут $J$, создаст кортежи $(i, j, k, v, w)$ из каждого кортежа $(i, j, v) \\in M$ и кортежа $(j, k, w) \\in N$. Такой 5 компонентный кортеж представляет пару элементов матрицы $(m_{ij} , n_{jk})$. Что нам хотелось бы получить на самом деле, это произведение этих элементов, то есть, 4 компонентный кортеж$(i, j, k, v \\times w)$, так как он представляет произведение $m_{ij}n_{jk}$. Мы представляем отношение как результат одной MapReduce операции, в которой мы можем произвести группировку и аггрегацию, с $I$ и $K$  атрибутами, по которым идёт группировка, и суммой  $V \\times W$.\n",
        "\n",
        "\n",
        "\n"
      ]
    },
    {
      "cell_type": "code",
      "metadata": {
        "id": "1MBkGaLAYVCt"
      },
      "source": [
        "# MapReduce model\n",
        "def flatten(nested_iterable):\n",
        "  for iterable in nested_iterable:\n",
        "    for element in iterable:\n",
        "      yield element\n",
        "\n",
        "def groupbykey(iterable):\n",
        "  t = {}\n",
        "  for (k2, v2) in iterable:\n",
        "    t[k2] = t.get(k2, []) + [v2]\n",
        "  return t.items()\n",
        "\n",
        "def MapReduce(RECORDREADER, MAP, REDUCE):\n",
        "  return flatten(map(lambda x: REDUCE(*x), groupbykey(flatten(map(lambda x: MAP(*x), RECORDREADER())))))"
      ],
      "execution_count": null,
      "outputs": []
    },
    {
      "cell_type": "markdown",
      "metadata": {
        "id": "sMspsOT0ZB35"
      },
      "source": [
        "Реализуйте перемножение матриц с использованием модельного кода MapReduce для одной машины в случае, когда одна матрица хранится в памяти, а другая генерируется RECORDREADER-ом."
      ]
    },
    {
      "cell_type": "code",
      "metadata": {
        "id": "psP1XekbsEjS"
      },
      "source": [
        "import numpy as np\n",
        "I = 2\n",
        "J = 3\n",
        "K = 4*10\n",
        "small_mat = np.random.rand(I,J) # it is legal to access this from RECORDREADER, MAP, REDUCE\n",
        "big_mat = np.random.rand(J,K)\n",
        "\n",
        "def RECORDREADER():\n",
        "  for j in range(big_mat.shape[0]):\n",
        "    for k in range(big_mat.shape[1]):\n",
        "      yield ((j,k), big_mat[j,k])\n",
        "\n",
        "def MAP(k1, v1):\n",
        "  (j, k) = k1\n",
        "  w = v1\n",
        "  for i in range(I):\n",
        "    yield ((i, k), w * small_mat[i, j])\n",
        "\n",
        "\n",
        "def REDUCE(key, values):\n",
        "  (i, k) = key\n",
        "  yield ((i, k), sum(values))"
      ],
      "execution_count": null,
      "outputs": []
    },
    {
      "cell_type": "markdown",
      "metadata": {
        "id": "rnt306LHhHrm"
      },
      "source": [
        "Проверьте своё решение"
      ]
    },
    {
      "cell_type": "code",
      "metadata": {
        "id": "Ewy_ZNYqW5a2",
        "colab": {
          "base_uri": "https://localhost:8080/"
        },
        "outputId": "74d17a57-11e3-41b3-9984-ae67b9810caa"
      },
      "source": [
        "# CHECK THE SOLUTION\n",
        "reference_solution = np.matmul(small_mat, big_mat)\n",
        "solution = MapReduce(RECORDREADER, MAP, REDUCE)\n",
        "\n",
        "def asmatrix(reduce_output):\n",
        "  reduce_output = list(reduce_output)\n",
        "  I = max(i for ((i,k), vw) in reduce_output)+1\n",
        "  K = max(k for ((i,k), vw) in reduce_output)+1\n",
        "  mat = np.empty(shape=(I,K))\n",
        "  for ((i,k), vw) in reduce_output:\n",
        "    mat[i,k] = vw\n",
        "  return mat\n",
        "\n",
        "np.allclose(reference_solution, asmatrix(solution)) # should return true"
      ],
      "execution_count": null,
      "outputs": [
        {
          "output_type": "execute_result",
          "data": {
            "text/plain": [
              "True"
            ]
          },
          "metadata": {},
          "execution_count": 148
        }
      ]
    },
    {
      "cell_type": "code",
      "metadata": {
        "id": "TK7v4CEcfxqf",
        "colab": {
          "base_uri": "https://localhost:8080/"
        },
        "outputId": "84b9d8f8-0c73-46c6-d867-3728f1e6abab"
      },
      "source": [
        "reduce_output = list(MapReduce(RECORDREADER, MAP, REDUCE))\n",
        "max(i for ((i,k), vw) in reduce_output)"
      ],
      "execution_count": null,
      "outputs": [
        {
          "output_type": "execute_result",
          "data": {
            "text/plain": [
              "1"
            ]
          },
          "metadata": {},
          "execution_count": 149
        }
      ]
    },
    {
      "cell_type": "markdown",
      "metadata": {
        "id": "i4yyg3kOZqJJ"
      },
      "source": [
        "Реализуйте перемножение матриц  с использованием модельного кода MapReduce для одной машины в случае, когда обе матрицы генерируются в RECORDREADER. Например, сначала одна, а потом другая."
      ]
    },
    {
      "cell_type": "code",
      "metadata": {
        "id": "3B7rIAJCaHZq",
        "colab": {
          "base_uri": "https://localhost:8080/"
        },
        "outputId": "f5f781cf-3ecc-4649-8450-6a4e19ba4b28"
      },
      "source": [
        "I = 2\n",
        "J = 3\n",
        "K = 4 * 10\n",
        "small_mat = np.random.rand(I, J)\n",
        "big_mat = np.random.rand(J, K)\n",
        "\n",
        "def MAP(k1, v1):\n",
        "  (matrix_id, row_index, col_index) = k1\n",
        "  if matrix_id == 0:\n",
        "    yield (col_index, (matrix_id, row_index, v1))\n",
        "  else:\n",
        "    yield (row_index, (matrix_id, col_index, v1))\n",
        "\n",
        "\n",
        "def REDUCE(key, values):\n",
        "    first_matrix_values = {}\n",
        "    second_matrix_values = {}\n",
        "    for value in values:\n",
        "        matrix_index, index, val = value\n",
        "        if matrix_index == 0:\n",
        "            first_matrix_values[index] = val\n",
        "        else:\n",
        "            second_matrix_values[index] = val\n",
        "    for first_index, first_value in first_matrix_values.items():\n",
        "        for second_index, second_value in second_matrix_values.items():\n",
        "            yield ((first_index, second_index), first_value * second_value)\n",
        "\n",
        "def RECORDREADER():\n",
        "  for j in range(J):\n",
        "    for k in range(K):\n",
        "      yield ((1, j, k), big_mat[j, k])\n",
        "  for i in range(I):\n",
        "    for j in range(J):\n",
        "      yield ((0, i, j), small_mat[i, j])\n",
        "\n",
        "def MAP_IDENTITY(k1, v1):\n",
        "  yield (k1, v1)\n",
        "\n",
        "def REDUCE_AGREGATE(key, values):\n",
        "  yield (key, sum(values))\n",
        "\n",
        "def RECORDREADER_IDENTITY(iterable):\n",
        "  def func():\n",
        "    for el in iterable:\n",
        "      yield el\n",
        "  return func\n",
        "\n",
        "def assemble_parts(parts_solution):\n",
        "  parts_solution = list(parts_solution)\n",
        "  I = max(i for ((i, k), vw) in parts_solution) + 1\n",
        "  K = max(k for ((i, k), vw) in parts_solution) + 1\n",
        "  mat = np.empty(shape=(I, K))\n",
        "  for ((i, k), vw) in parts_solution:\n",
        "    mat[i, k] = vw\n",
        "  return mat\n",
        "\n",
        "np_solution = np.matmul(small_mat, big_mat)\n",
        "parts_solution = MapReduce(RECORDREADER, MAP, REDUCE)\n",
        "map_reduce_solution = MapReduce(RECORDREADER_IDENTITY(parts_solution), MAP_IDENTITY, REDUCE_AGREGATE)\n",
        "\n",
        "np.allclose(np_solution, assemble_parts(map_reduce_solution))"
      ],
      "execution_count": null,
      "outputs": [
        {
          "output_type": "execute_result",
          "data": {
            "text/plain": [
              "True"
            ]
          },
          "metadata": {},
          "execution_count": 150
        }
      ]
    },
    {
      "cell_type": "markdown",
      "metadata": {
        "id": "mXyzQi1DaIwo"
      },
      "source": [
        "Реализуйте перемножение матриц с использованием модельного кода MapReduce Distributed, когда каждая матрица генерируется в своём RECORDREADER.\n",
        "\n",
        "\n"
      ]
    },
    {
      "cell_type": "code",
      "metadata": {
        "id": "TDM_s78Rb5eR",
        "colab": {
          "base_uri": "https://localhost:8080/"
        },
        "outputId": "8f0b6bf4-e756-4068-f07f-258908977674"
      },
      "source": [
        "I = 2\n",
        "J = 3\n",
        "K = 4 * 10\n",
        "small_mat = np.random.rand(I, J)\n",
        "big_mat = np.random.rand(J, K)\n",
        "\n",
        "maps = 2\n",
        "reducers = 2\n",
        "\n",
        "def INPUTFORMAT():\n",
        "  def RECORDREADER(index, matrix):\n",
        "    rows, cols = matrix.shape\n",
        "    for i in range(rows):\n",
        "      for j in range(cols):\n",
        "        yield ((index, i, j), matrix[i, j])\n",
        "\n",
        "  yield RECORDREADER(0, small_mat)\n",
        "  yield RECORDREADER(1, big_mat)\n",
        "\n",
        "def MAP(k1, v1):\n",
        "  (matrix_id, row_index, col_index) = k1\n",
        "  if matrix_id == 0:\n",
        "    yield (col_index, (matrix_id, row_index, v1))\n",
        "  else:\n",
        "    yield (row_index, (matrix_id, col_index, v1))\n",
        "\n",
        "\n",
        "def REDUCE(key, values):\n",
        "    first_matrix_values = {}\n",
        "    second_matrix_values = {}\n",
        "    for value in values:\n",
        "        matrix_index, index, val = value\n",
        "        if matrix_index == 0:\n",
        "            first_matrix_values[index] = val\n",
        "        else:\n",
        "            second_matrix_values[index] = val\n",
        "    for first_index, first_value in first_matrix_values.items():\n",
        "        for second_index, second_value in second_matrix_values.items():\n",
        "            yield ((first_index, second_index), first_value * second_value)\n",
        "\n",
        "def MAP_IDENTITY(k1, v1):\n",
        "  yield (k1, v1)\n",
        "\n",
        "def REDUCE_AGREGATE(key, values):\n",
        "  yield (key, sum(values))\n",
        "\n",
        "def GET_INPUTFORMAT(iterable):\n",
        "  def func():\n",
        "    for el in iterable:\n",
        "      yield el[1]\n",
        "  return func\n",
        "\n",
        "def assemble_parts(parts_solution):\n",
        "  parts_solution = list(parts_solution)\n",
        "  I = max(i for ((i, k), vw) in parts_solution) + 1\n",
        "  K = max(k for ((i, k), vw) in parts_solution) + 1\n",
        "  mat = np.empty(shape=(I, K))\n",
        "  for ((i, k), vw) in parts_solution:\n",
        "    mat[i, k] = vw\n",
        "  return mat\n",
        "\n",
        "np_solution = np.matmul(small_mat, big_mat)\n",
        "\n",
        "parts_output = MapReduceDistributed(INPUTFORMAT, MAP, REDUCE, COMBINER=None)\n",
        "parts_output = [(partition_id, list(partition)) for (partition_id, partition) in parts_output]\n",
        "\n",
        "map_reduce_solution = MapReduceDistributed(GET_INPUTFORMAT(parts_output), MAP_IDENTITY, REDUCE_AGREGATE, COMBINER=None)\n",
        "map_reduce_solution = [(partition_id, list(partition)) for (partition_id, partition) in map_reduce_solution]\n",
        "\n",
        "solution_unpacked = []\n",
        "for value in map_reduce_solution:\n",
        "  for v in value[1]:\n",
        "    solution_unpacked.append(v)\n",
        "\n",
        "np.allclose(np_solution, assemble_parts(solution_unpacked))"
      ],
      "execution_count": null,
      "outputs": [
        {
          "output_type": "stream",
          "name": "stdout",
          "text": [
            "126 key-value pairs were sent over a network.\n",
            "240 key-value pairs were sent over a network.\n"
          ]
        },
        {
          "output_type": "execute_result",
          "data": {
            "text/plain": [
              "True"
            ]
          },
          "metadata": {},
          "execution_count": 151
        }
      ]
    },
    {
      "cell_type": "markdown",
      "metadata": {
        "id": "ZuSA2P9Db6UM"
      },
      "source": [
        "Обобщите предыдущее решение на случай, когда каждая матрица генерируется несколькими RECORDREADER-ами, и проверьте его работоспособность. Будет ли работать решение, если RECORDREADER-ы будут генерировать случайное подмножество элементов матрицы?"
      ]
    },
    {
      "cell_type": "code",
      "metadata": {
        "id": "ehN0FqRDcwU5",
        "colab": {
          "base_uri": "https://localhost:8080/"
        },
        "outputId": "4d9d9706-d5b6-4374-f01b-55e451968bb5"
      },
      "source": [
        "I = 2\n",
        "J = 3\n",
        "K = 4\n",
        "small_mat = np.random.rand(I, J)\n",
        "big_mat = np.random.rand(J, K)\n",
        "\n",
        "maps = 2\n",
        "reducers = 2\n",
        "\n",
        "def INPUTFORMAT():\n",
        "    def RECORDREADER(index, matrix, shift):\n",
        "        rows, cols = matrix.shape\n",
        "        for i, row in enumerate(matrix):\n",
        "            for j, val in enumerate(row):\n",
        "                yield ((index, i + shift, j), val)\n",
        "\n",
        "    split_size_small = int(np.ceil(small_mat.shape[0] / maps))\n",
        "    split_size_big = int(np.ceil(big_mat.shape[0] / maps))\n",
        "\n",
        "    for index, matrix, split_size in [(0, small_mat, split_size_small), (1, big_mat, split_size_big)]:\n",
        "        for i in range(0, len(matrix), split_size):\n",
        "            yield RECORDREADER(index, matrix[i:i + split_size], i)\n",
        "\n",
        "def MAP(k1, v1):\n",
        "  (matrix_id, row_index, col_index) = k1\n",
        "  if matrix_id == 0:\n",
        "    yield (col_index, (matrix_id, row_index, v1))\n",
        "  else:\n",
        "    yield (row_index, (matrix_id, col_index, v1))\n",
        "\n",
        "def REDUCE(key, values):\n",
        "    first_matrix_values = {}\n",
        "    second_matrix_values = {}\n",
        "    for value in values:\n",
        "        matrix_index, index, val = value\n",
        "        if matrix_index == 0:\n",
        "            first_matrix_values[index] = val\n",
        "        else:\n",
        "            second_matrix_values[index] = val\n",
        "    for first_index, first_value in first_matrix_values.items():\n",
        "        for second_index, second_value in second_matrix_values.items():\n",
        "            yield ((first_index, second_index), first_value * second_value)\n",
        "\n",
        "def MAP_IDENTITY(k1, v1):\n",
        "  yield (k1, v1)\n",
        "\n",
        "def REDUCE_AGREGATE(key, values):\n",
        "  yield (key, sum(values))\n",
        "\n",
        "def GET_INPUTFORMAT(iterable):\n",
        "  def func():\n",
        "    for el in iterable:\n",
        "      yield el[1]\n",
        "  return func\n",
        "\n",
        "def assemble_parts(parts_solution):\n",
        "  parts_solution = list(parts_solution)\n",
        "  I = max(i for ((i, k), vw) in parts_solution) + 1\n",
        "  K = max(k for ((i, k), vw) in parts_solution) + 1\n",
        "  mat = np.empty(shape=(I, K))\n",
        "  for ((i, k), vw) in parts_solution:\n",
        "    mat[i, k] = vw\n",
        "  return mat\n",
        "\n",
        "np_solution = np.matmul(small_mat, big_mat)\n",
        "\n",
        "parts_output = MapReduceDistributed(INPUTFORMAT, MAP, REDUCE, COMBINER=None)\n",
        "parts_output = [(partition_id, list(partition)) for (partition_id, partition) in parts_output]\n",
        "\n",
        "map_reduce_solution = MapReduceDistributed(GET_INPUTFORMAT(parts_output), MAP_IDENTITY, REDUCE_AGREGATE, COMBINER=None)\n",
        "map_reduce_solution = [(partition_id, list(partition)) for (partition_id, partition) in map_reduce_solution]\n",
        "\n",
        "solution_unpacked = []\n",
        "for value in map_reduce_solution:\n",
        "  for v in value[1]:\n",
        "    solution_unpacked.append(v)\n",
        "\n",
        "np.allclose(np_solution, assemble_parts(solution_unpacked))"
      ],
      "execution_count": null,
      "outputs": [
        {
          "output_type": "stream",
          "name": "stdout",
          "text": [
            "18 key-value pairs were sent over a network.\n",
            "24 key-value pairs were sent over a network.\n"
          ]
        },
        {
          "output_type": "execute_result",
          "data": {
            "text/plain": [
              "True"
            ]
          },
          "metadata": {},
          "execution_count": 154
        }
      ]
    }
  ]
}